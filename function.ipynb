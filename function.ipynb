{
 "cells": [
  {
   "cell_type": "code",
   "execution_count": 1,
   "id": "bcf35347-6289-42df-873c-469ac9a25198",
   "metadata": {},
   "outputs": [],
   "source": [
    "# fun banana,diff b/w print and return,single ip sing op,sing ip \n",
    "#multiple op,multip ip multip op,fun call krna,uska op store krna\n",
    "#sig variab me aur multip var me,place holder,docstring banana,args banana,kwargs banana\n",
    "# fun banana jiska nam na ho(lambda fun)"
   ]
  },
  {
   "cell_type": "code",
   "execution_count": 2,
   "id": "6f88c4af-2fc6-452c-982f-65e370793d0b",
   "metadata": {},
   "outputs": [
    {
     "name": "stdout",
     "output_type": "stream",
     "text": [
      "fun create kr diye\n"
     ]
    }
   ],
   "source": [
    "def test():\n",
    "    print(\"fun create kr diye\")\n",
    "test()"
   ]
  },
  {
   "cell_type": "code",
   "execution_count": 5,
   "id": "31ee5189-0e72-42d0-bdd8-2d8531454cbb",
   "metadata": {},
   "outputs": [
    {
     "name": "stdout",
     "output_type": "stream",
     "text": [
      "25\n"
     ]
    }
   ],
   "source": [
    "def test1(a):\n",
    "    print(a)\n",
    "test1(25)"
   ]
  },
  {
   "cell_type": "code",
   "execution_count": 15,
   "id": "1ac9c4f4-19d9-4100-b468-32b237556797",
   "metadata": {},
   "outputs": [
    {
     "name": "stdout",
     "output_type": "stream",
     "text": [
      "vishal\n"
     ]
    },
    {
     "ename": "TypeError",
     "evalue": "unsupported operand type(s) for +: 'NoneType' and 'str'",
     "output_type": "error",
     "traceback": [
      "\u001b[0;31m---------------------------------------------------------------------------\u001b[0m",
      "\u001b[0;31mTypeError\u001b[0m                                 Traceback (most recent call last)",
      "Cell \u001b[0;32mIn[15], line 3\u001b[0m\n\u001b[1;32m      1\u001b[0m \u001b[38;5;28;01mdef\u001b[39;00m \u001b[38;5;21mtest2\u001b[39m(a):\n\u001b[1;32m      2\u001b[0m     \u001b[38;5;28mprint\u001b[39m(a)\n\u001b[0;32m----> 3\u001b[0m \u001b[43mtest2\u001b[49m\u001b[43m(\u001b[49m\u001b[38;5;124;43m\"\u001b[39;49m\u001b[38;5;124;43mvishal\u001b[39;49m\u001b[38;5;124;43m\"\u001b[39;49m\u001b[43m)\u001b[49m\u001b[38;5;241;43m+\u001b[39;49m\u001b[38;5;124;43m\"\u001b[39;49m\u001b[38;5;124;43mkumar\u001b[39;49m\u001b[38;5;124;43m\"\u001b[39;49m\n",
      "\u001b[0;31mTypeError\u001b[0m: unsupported operand type(s) for +: 'NoneType' and 'str'"
     ]
    }
   ],
   "source": [
    "def test2(a):\n",
    "    print(a)\n",
    "test2(\"vishal\")+\"kumar\"\n"
   ]
  },
  {
   "cell_type": "code",
   "execution_count": 19,
   "id": "99f4660f-4b76-49b0-91be-15191c2f7c01",
   "metadata": {},
   "outputs": [
    {
     "name": "stdout",
     "output_type": "stream",
     "text": [
      "vishal\n"
     ]
    },
    {
     "data": {
      "text/plain": [
       "NoneType"
      ]
     },
     "execution_count": 19,
     "metadata": {},
     "output_type": "execute_result"
    }
   ],
   "source": [
    "def test2(a):\n",
    "    print(a)\n",
    "type(test2(\"vishal\"))\n"
   ]
  },
  {
   "cell_type": "code",
   "execution_count": 8,
   "id": "43e98728-3a00-452d-a833-bac9283c000b",
   "metadata": {},
   "outputs": [
    {
     "data": {
      "text/plain": [
       "'vishalkumar'"
      ]
     },
     "execution_count": 8,
     "metadata": {},
     "output_type": "execute_result"
    }
   ],
   "source": [
    "def test2(a):\n",
    "    return(a)\n",
    "test2(\"vishal\")+\"kumar\""
   ]
  },
  {
   "cell_type": "code",
   "execution_count": 20,
   "id": "e677704b-efdd-4981-9de0-f924046049aa",
   "metadata": {},
   "outputs": [
    {
     "data": {
      "text/plain": [
       "str"
      ]
     },
     "execution_count": 20,
     "metadata": {},
     "output_type": "execute_result"
    }
   ],
   "source": [
    "def test2(a):\n",
    "    return(a)\n",
    "type(test2(\"vishal\"))"
   ]
  },
  {
   "cell_type": "code",
   "execution_count": 22,
   "id": "b3f2f043-454f-481d-8850-820ae7417763",
   "metadata": {},
   "outputs": [
    {
     "data": {
      "text/plain": [
       "(20, 25, 30)"
      ]
     },
     "execution_count": 22,
     "metadata": {},
     "output_type": "execute_result"
    }
   ],
   "source": [
    "def test3(a,b,c):\n",
    "    return (a,b,c)   #return muliple op in form of tuple\n",
    "test3(20,25,30)"
   ]
  },
  {
   "cell_type": "code",
   "execution_count": 27,
   "id": "162f5df5-4422-4834-9e62-15dd53fe050a",
   "metadata": {},
   "outputs": [],
   "source": [
    "def test3(a,b,c):\n",
    "    return (a,b,c)   #return muliple op and get store in sing var\n",
    "kalu=test3(20,25,30)"
   ]
  },
  {
   "cell_type": "code",
   "execution_count": 26,
   "id": "c8cf6bba-532b-4af6-9e78-89aefeea1743",
   "metadata": {},
   "outputs": [],
   "source": [
    "def test3(a,b,c):\n",
    "    return (a,b,c)   #return muliple op and get store in multiple var\n",
    "u,v,w=test3(20,25,30)"
   ]
  },
  {
   "cell_type": "code",
   "execution_count": 28,
   "id": "50998125-e217-4665-abb0-c0d72a27626a",
   "metadata": {},
   "outputs": [
    {
     "data": {
      "text/plain": [
       "(20, 25, 30)"
      ]
     },
     "execution_count": 28,
     "metadata": {},
     "output_type": "execute_result"
    }
   ],
   "source": [
    "kalu"
   ]
  },
  {
   "cell_type": "code",
   "execution_count": 29,
   "id": "dfec0d7b-5e87-464b-bec9-89f5a9c9018b",
   "metadata": {},
   "outputs": [
    {
     "data": {
      "text/plain": [
       "20"
      ]
     },
     "execution_count": 29,
     "metadata": {},
     "output_type": "execute_result"
    }
   ],
   "source": [
    "u"
   ]
  },
  {
   "cell_type": "code",
   "execution_count": 30,
   "id": "5df17c21-d958-4ea5-86f4-4f3327b3f5f8",
   "metadata": {},
   "outputs": [
    {
     "data": {
      "text/plain": [
       "25"
      ]
     },
     "execution_count": 30,
     "metadata": {},
     "output_type": "execute_result"
    }
   ],
   "source": [
    "v"
   ]
  },
  {
   "cell_type": "code",
   "execution_count": 32,
   "id": "3f4b7912-5e8e-48b3-b9ff-cc48a13089ac",
   "metadata": {},
   "outputs": [
    {
     "data": {
      "text/plain": [
       "30"
      ]
     },
     "execution_count": 32,
     "metadata": {},
     "output_type": "execute_result"
    }
   ],
   "source": [
    "w"
   ]
  },
  {
   "cell_type": "code",
   "execution_count": 35,
   "id": "160b9cbc-3b60-465d-b804-dc03e074b31e",
   "metadata": {},
   "outputs": [],
   "source": [
    "def test4 (a,b,c):\n",
    "    return a,b,c\n",
    "k,_,_= test4(\"vishal\",45,\"mohan\")"
   ]
  },
  {
   "cell_type": "code",
   "execution_count": 36,
   "id": "28cf006c-8afa-4dc8-b0ea-ed636c9f5721",
   "metadata": {},
   "outputs": [
    {
     "data": {
      "text/plain": [
       "'vishal'"
      ]
     },
     "execution_count": 36,
     "metadata": {},
     "output_type": "execute_result"
    }
   ],
   "source": [
    "k"
   ]
  },
  {
   "cell_type": "code",
   "execution_count": 38,
   "id": "12465e23-b557-4b80-abb2-51206c2325da",
   "metadata": {},
   "outputs": [
    {
     "data": {
      "text/plain": [
       "'mohan'"
      ]
     },
     "execution_count": 38,
     "metadata": {},
     "output_type": "execute_result"
    }
   ],
   "source": [
    "_     #get modify with latest value of place holder"
   ]
  },
  {
   "cell_type": "code",
   "execution_count": 54,
   "id": "da625a8a-2e04-4b25-b135-fa01adb09f8d",
   "metadata": {},
   "outputs": [
    {
     "name": "stdout",
     "output_type": "stream",
     "text": [
      "2\n",
      "5\n",
      "vishal\n",
      "66\n"
     ]
    }
   ],
   "source": [
    "def test5(l):\n",
    "    \"\"\"this fun will take list as iup and return its value one by one\"\"\"  #maintaining doc string\n",
    "    for i in l:\n",
    "        print(i)\n",
    "test5([2,5,\"vishal\",66])"
   ]
  },
  {
   "cell_type": "code",
   "execution_count": 55,
   "id": "f634900d-3c05-4096-82f5-abdc3bf029a6",
   "metadata": {},
   "outputs": [
    {
     "name": "stdout",
     "output_type": "stream",
     "text": [
      "2\n",
      "3\n",
      "vishal\n",
      "56\n"
     ]
    }
   ],
   "source": [
    "test5([2,3,\"vishal\",56])"
   ]
  },
  {
   "cell_type": "code",
   "execution_count": 56,
   "id": "4200d46e-8573-48d1-9a75-8edff3450596",
   "metadata": {},
   "outputs": [
    {
     "data": {
      "text/plain": [
       "(5, 6, 88, 25, 15)"
      ]
     },
     "execution_count": 56,
     "metadata": {},
     "output_type": "execute_result"
    }
   ],
   "source": [
    "def test6(*args):      #kitna bhi ip le skta h\n",
    "    return args        \n",
    "test6(5,6,88,25,15)"
   ]
  },
  {
   "cell_type": "code",
   "execution_count": 58,
   "id": "c57b3c8b-cbfc-4c1f-b7bf-8011a6ebe450",
   "metadata": {},
   "outputs": [
    {
     "data": {
      "text/plain": [
       "(5, 6, 88, 25, 15)"
      ]
     },
     "execution_count": 58,
     "metadata": {},
     "output_type": "execute_result"
    }
   ],
   "source": [
    "def test6(*vishal):      # args koi keyword ni hai bas convention h\n",
    "    return vishal        \n",
    "test6(5,6,88,25,15)"
   ]
  },
  {
   "cell_type": "code",
   "execution_count": 63,
   "id": "93a43de0-7e58-4599-9278-96050e698f6e",
   "metadata": {},
   "outputs": [
    {
     "data": {
      "text/plain": [
       "((52, 'mohan', 5, 34), 'vpuri@gmail.com')"
      ]
     },
     "execution_count": 63,
     "metadata": {},
     "output_type": "execute_result"
    }
   ],
   "source": [
    "def test7(*args,email_id=\"vpuri@gmail.com\"):\n",
    "    return args,email_id\n",
    "test7(52,\"mohan\",5,34)"
   ]
  },
  {
   "cell_type": "code",
   "execution_count": 64,
   "id": "e463c40f-0a89-4529-ba87-79403123478f",
   "metadata": {},
   "outputs": [
    {
     "data": {
      "text/plain": [
       "((52, 'mohan', 5, 34), 'mohan@gmail.com')"
      ]
     },
     "execution_count": 64,
     "metadata": {},
     "output_type": "execute_result"
    }
   ],
   "source": [
    "def test7(*args,email_id=\"vpuri@gmail.com\"):\n",
    "    return args,email_id\n",
    "test7(52,\"mohan\",5,34,email_id=\"mohan@gmail.com\")"
   ]
  },
  {
   "cell_type": "code",
   "execution_count": 72,
   "id": "0f06a105-179c-4b7d-ae13-08f0ef612a55",
   "metadata": {},
   "outputs": [
    {
     "data": {
      "text/plain": [
       "{'a': 5, 'b': 'vishal', 'c': 99}"
      ]
     },
     "execution_count": 72,
     "metadata": {},
     "output_type": "execute_result"
    }
   ],
   "source": [
    "def test8(**kwargs):       #take ip as key value pair **args\n",
    "    return kwargs         # **args is not a keyword\n",
    "test8(a=5,b=\"vishal\",c=99)"
   ]
  },
  {
   "cell_type": "code",
   "execution_count": 78,
   "id": "ee1ed497-aff1-4fd2-b381-fd1344e02c76",
   "metadata": {},
   "outputs": [],
   "source": [
    "p=lambda a,b:a*b   # collon ke phle ip lenge aur collon ke bad op\n"
   ]
  },
  {
   "cell_type": "code",
   "execution_count": 79,
   "id": "c512ff8e-9c0d-44c1-a446-2c3c49fd0e3a",
   "metadata": {},
   "outputs": [
    {
     "data": {
      "text/plain": [
       "10"
      ]
     },
     "execution_count": 79,
     "metadata": {},
     "output_type": "execute_result"
    }
   ],
   "source": [
    "p(2,5)"
   ]
  },
  {
   "cell_type": "code",
   "execution_count": 83,
   "id": "aebe4439-ad61-44c5-9ee4-ce9b3e5e8359",
   "metadata": {},
   "outputs": [],
   "source": [
    "r=lambda l:l*l   #return square of a no"
   ]
  },
  {
   "cell_type": "code",
   "execution_count": 84,
   "id": "78ab3e61-d394-4fe9-acc8-d1acb99e385c",
   "metadata": {},
   "outputs": [
    {
     "data": {
      "text/plain": [
       "81"
      ]
     },
     "execution_count": 84,
     "metadata": {},
     "output_type": "execute_result"
    }
   ],
   "source": [
    "r(9)"
   ]
  },
  {
   "cell_type": "code",
   "execution_count": 102,
   "id": "3e8ffcdc-b8b4-47bd-b9f5-a1904d912512",
   "metadata": {},
   "outputs": [],
   "source": [
    "l1=[]\n",
    "def test9(l):\n",
    "    for i in l:\n",
    "        l1.append(i+2)\n",
    "        "
   ]
  },
  {
   "cell_type": "code",
   "execution_count": 103,
   "id": "c803dcfa-fd12-4ea6-979e-c9eca38215de",
   "metadata": {},
   "outputs": [],
   "source": [
    "test9([2,5,3,9,4,6])"
   ]
  },
  {
   "cell_type": "code",
   "execution_count": 104,
   "id": "02729c03-eb8e-4ae1-8ff5-d370b9f53ef7",
   "metadata": {},
   "outputs": [
    {
     "data": {
      "text/plain": [
       "[4, 7, 5, 11, 6, 8]"
      ]
     },
     "execution_count": 104,
     "metadata": {},
     "output_type": "execute_result"
    }
   ],
   "source": [
    "l1"
   ]
  }
 ],
 "metadata": {
  "kernelspec": {
   "display_name": "Python 3 (ipykernel)",
   "language": "python",
   "name": "python3"
  },
  "language_info": {
   "codemirror_mode": {
    "name": "ipython",
    "version": 3
   },
   "file_extension": ".py",
   "mimetype": "text/x-python",
   "name": "python",
   "nbconvert_exporter": "python",
   "pygments_lexer": "ipython3",
   "version": "3.10.8"
  }
 },
 "nbformat": 4,
 "nbformat_minor": 5
}
