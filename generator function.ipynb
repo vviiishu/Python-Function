{
 "cells": [
  {
   "cell_type": "code",
   "execution_count": 43,
   "id": "cdeba2bb-450d-4652-bb5a-668a77e9dc51",
   "metadata": {},
   "outputs": [
    {
     "data": {
      "text/plain": [
       "range(0, 10)"
      ]
     },
     "execution_count": 43,
     "metadata": {},
     "output_type": "execute_result"
    }
   ],
   "source": [
    "range(10)     # generator function : it does not give op it generate an obj"
   ]
  },
  {
   "cell_type": "code",
   "execution_count": 44,
   "id": "2cee5ca1-194c-4571-b185-0a7a03cf2997",
   "metadata": {},
   "outputs": [
    {
     "name": "stdout",
     "output_type": "stream",
     "text": [
      "0\n",
      "1\n",
      "2\n",
      "3\n",
      "4\n",
      "5\n",
      "6\n",
      "7\n",
      "8\n",
      "9\n"
     ]
    }
   ],
   "source": [
    "for i in range(10):     #  we use loop to get op one by one by gnertaor fun\n",
    "    print (i)"
   ]
  },
  {
   "cell_type": "code",
   "execution_count": 45,
   "id": "64fc73b5-58f4-49f5-b23a-70bde577f006",
   "metadata": {},
   "outputs": [
    {
     "name": "stdout",
     "output_type": "stream",
     "text": [
      "0 1 2 3 4 5 6 7 8 9 "
     ]
    }
   ],
   "source": [
    "for i in range(10):     #  we use loop to get op one by one by gnertaor fun\n",
    "    print (i,end=\" \")"
   ]
  },
  {
   "cell_type": "code",
   "execution_count": 46,
   "id": "c20cbaf1-8c48-460f-b3b2-5758bbe789e3",
   "metadata": {},
   "outputs": [],
   "source": [
    "def test1 (n):\n",
    "    a=0\n",
    "    b=1\n",
    "    for i in range (n):\n",
    "        yield a          # yield keyword is used to create generator fun\n",
    "        a,b=b,a+b        # creating a generator fun for fib no\n"
   ]
  },
  {
   "cell_type": "code",
   "execution_count": 47,
   "id": "b5bfe748-23a1-4baa-a040-d5c3b148e50d",
   "metadata": {},
   "outputs": [
    {
     "data": {
      "text/plain": [
       "<generator object test1 at 0x7f5894656c00>"
      ]
     },
     "execution_count": 47,
     "metadata": {},
     "output_type": "execute_result"
    }
   ],
   "source": [
    "test1(10)    # we have created a generator function           "
   ]
  },
  {
   "cell_type": "markdown",
   "id": "c2acb696-3440-4b21-b643-c44990b77d71",
   "metadata": {},
   "source": [
    "#### generator function genertates outcomes one by one instead of holding AND GIVING OUTCOMES AT ONCE\n",
    "#### generator fun is used for memory optimization"
   ]
  },
  {
   "cell_type": "code",
   "execution_count": 48,
   "id": "c9d15597-e8ea-47d7-afa4-b1325a1f5d34",
   "metadata": {},
   "outputs": [
    {
     "name": "stdout",
     "output_type": "stream",
     "text": [
      "0\n",
      "1\n",
      "1\n",
      "2\n",
      "3\n",
      "5\n",
      "8\n",
      "13\n",
      "21\n",
      "34\n",
      "55\n",
      "89\n",
      "144\n",
      "233\n",
      "377\n"
     ]
    }
   ],
   "source": [
    "for i in test1(15):\n",
    "    print (i)               #loop is being used to get op from generator fun"
   ]
  },
  {
   "cell_type": "code",
   "execution_count": 49,
   "id": "7f01d565-1140-479f-931c-55fec5f3b57d",
   "metadata": {},
   "outputs": [],
   "source": [
    "s=\"vishal\""
   ]
  },
  {
   "cell_type": "code",
   "execution_count": 50,
   "id": "6520202d-50a8-4af0-a447-90f003d1bb51",
   "metadata": {},
   "outputs": [
    {
     "name": "stdout",
     "output_type": "stream",
     "text": [
      "v\n",
      "i\n",
      "s\n",
      "h\n",
      "a\n",
      "l\n"
     ]
    }
   ],
   "source": [
    "for i in s:     # for loop take data and put it into iter fun\n",
    "      print(i)   # to make it a iterator fun and also it calculate len\n",
    "                # then it do next next thing to get data one by one"
   ]
  },
  {
   "cell_type": "code",
   "execution_count": 51,
   "id": "f8e04ded-85ed-4f90-a766-434960649a55",
   "metadata": {},
   "outputs": [
    {
     "ename": "TypeError",
     "evalue": "'str' object is not an iterator",
     "output_type": "error",
     "traceback": [
      "\u001b[0;31m---------------------------------------------------------------------------\u001b[0m",
      "\u001b[0;31mTypeError\u001b[0m                                 Traceback (most recent call last)",
      "Cell \u001b[0;32mIn[51], line 1\u001b[0m\n\u001b[0;32m----> 1\u001b[0m \u001b[38;5;28;43mnext\u001b[39;49m\u001b[43m(\u001b[49m\u001b[43ms\u001b[49m\u001b[43m)\u001b[49m     \u001b[38;5;66;03m#string is iterable fun but not an iterator fun\u001b[39;00m\n",
      "\u001b[0;31mTypeError\u001b[0m: 'str' object is not an iterator"
     ]
    }
   ],
   "source": [
    "next(s)     #string is iterable fun but not an iterator fun"
   ]
  },
  {
   "cell_type": "code",
   "execution_count": 11,
   "id": "1d2ce0ba-a9ba-42aa-be85-d86c67eb1eed",
   "metadata": {},
   "outputs": [],
   "source": [
    "# iterable fun can be made iterator fun if we put it in iter(()"
   ]
  },
  {
   "cell_type": "code",
   "execution_count": 52,
   "id": "f7613f94-fef7-4563-804d-c9dc413a5ced",
   "metadata": {},
   "outputs": [
    {
     "data": {
      "text/plain": [
       "<str_iterator at 0x7f589c170730>"
      ]
     },
     "execution_count": 52,
     "metadata": {},
     "output_type": "execute_result"
    }
   ],
   "source": [
    "iter(s)"
   ]
  },
  {
   "cell_type": "code",
   "execution_count": 53,
   "id": "cf68b9e5-0326-434e-b9b1-62c7f3e4b298",
   "metadata": {},
   "outputs": [
    {
     "data": {
      "text/plain": [
       "str_iterator"
      ]
     },
     "execution_count": 53,
     "metadata": {},
     "output_type": "execute_result"
    }
   ],
   "source": [
    "type(iter(s))"
   ]
  },
  {
   "cell_type": "code",
   "execution_count": 54,
   "id": "8b9a7caa-e528-4cc2-af83-b190ac63c80e",
   "metadata": {},
   "outputs": [],
   "source": [
    "s1=iter(s)"
   ]
  },
  {
   "cell_type": "code",
   "execution_count": 55,
   "id": "87c35138-0b76-43ca-b7e8-7a5df2818378",
   "metadata": {},
   "outputs": [
    {
     "data": {
      "text/plain": [
       "'v'"
      ]
     },
     "execution_count": 55,
     "metadata": {},
     "output_type": "execute_result"
    }
   ],
   "source": [
    "next(s1)"
   ]
  },
  {
   "cell_type": "code",
   "execution_count": 56,
   "id": "956ad2c3-2ec0-4cb4-b6ab-303aca231457",
   "metadata": {},
   "outputs": [
    {
     "data": {
      "text/plain": [
       "'i'"
      ]
     },
     "execution_count": 56,
     "metadata": {},
     "output_type": "execute_result"
    }
   ],
   "source": [
    "next(s1)"
   ]
  },
  {
   "cell_type": "code",
   "execution_count": 17,
   "id": "1c7dd70d-b12c-4d97-b62d-7ee89e3c5bf1",
   "metadata": {},
   "outputs": [],
   "source": [
    "# for loop work as next next thing and its know len so its stop after completing"
   ]
  },
  {
   "cell_type": "code",
   "execution_count": 57,
   "id": "e1e110ee-617f-4cb2-b22b-ed12fcd9efe4",
   "metadata": {},
   "outputs": [
    {
     "ename": "TypeError",
     "evalue": "'int' object is not iterable",
     "output_type": "error",
     "traceback": [
      "\u001b[0;31m---------------------------------------------------------------------------\u001b[0m",
      "\u001b[0;31mTypeError\u001b[0m                                 Traceback (most recent call last)",
      "Cell \u001b[0;32mIn[57], line 1\u001b[0m\n\u001b[0;32m----> 1\u001b[0m \u001b[38;5;28;43miter\u001b[39;49m\u001b[43m(\u001b[49m\u001b[38;5;241;43m50\u001b[39;49m\u001b[43m)\u001b[49m\n",
      "\u001b[0;31mTypeError\u001b[0m: 'int' object is not iterable"
     ]
    }
   ],
   "source": [
    "iter(50)"
   ]
  },
  {
   "cell_type": "code",
   "execution_count": 58,
   "id": "3dfed185-b317-4c7b-9c76-bb9ac7dd6fe4",
   "metadata": {},
   "outputs": [],
   "source": [
    "def test2 (n):\n",
    "    count=1\n",
    "    while count < n:\n",
    "        yield count\n",
    "        count=count+1       "
   ]
  },
  {
   "cell_type": "code",
   "execution_count": 59,
   "id": "d61db489-10e0-4efc-a94f-897a5c5eae9b",
   "metadata": {},
   "outputs": [],
   "source": [
    "c=test2(10)"
   ]
  },
  {
   "cell_type": "code",
   "execution_count": 60,
   "id": "1a21894e-3ac7-40cc-95da-ac45c6439889",
   "metadata": {},
   "outputs": [
    {
     "data": {
      "text/plain": [
       "generator"
      ]
     },
     "execution_count": 60,
     "metadata": {},
     "output_type": "execute_result"
    }
   ],
   "source": [
    "type(c)"
   ]
  },
  {
   "cell_type": "code",
   "execution_count": 61,
   "id": "8e2b0518-e93a-4d0d-a01e-de974c961e32",
   "metadata": {},
   "outputs": [
    {
     "ename": "TypeError",
     "evalue": "'function' object is not an iterator",
     "output_type": "error",
     "traceback": [
      "\u001b[0;31m---------------------------------------------------------------------------\u001b[0m",
      "\u001b[0;31mTypeError\u001b[0m                                 Traceback (most recent call last)",
      "Cell \u001b[0;32mIn[61], line 1\u001b[0m\n\u001b[0;32m----> 1\u001b[0m \u001b[38;5;28;43mnext\u001b[39;49m\u001b[43m(\u001b[49m\u001b[43mtest2\u001b[49m\u001b[43m)\u001b[49m\n",
      "\u001b[0;31mTypeError\u001b[0m: 'function' object is not an iterator"
     ]
    }
   ],
   "source": [
    "next(test2)"
   ]
  },
  {
   "cell_type": "code",
   "execution_count": 62,
   "id": "a257d393-80da-4adc-8af9-64362c165d16",
   "metadata": {},
   "outputs": [
    {
     "ename": "TypeError",
     "evalue": "'function' object is not iterable",
     "output_type": "error",
     "traceback": [
      "\u001b[0;31m---------------------------------------------------------------------------\u001b[0m",
      "\u001b[0;31mTypeError\u001b[0m                                 Traceback (most recent call last)",
      "Cell \u001b[0;32mIn[62], line 1\u001b[0m\n\u001b[0;32m----> 1\u001b[0m \u001b[38;5;28;43miter\u001b[39;49m\u001b[43m(\u001b[49m\u001b[43mtest2\u001b[49m\u001b[43m)\u001b[49m\n",
      "\u001b[0;31mTypeError\u001b[0m: 'function' object is not iterable"
     ]
    }
   ],
   "source": [
    "iter(test2)"
   ]
  },
  {
   "cell_type": "code",
   "execution_count": 63,
   "id": "87876d55-dc7a-40e4-82be-8fcba4a7ba49",
   "metadata": {},
   "outputs": [
    {
     "data": {
      "text/plain": [
       "<generator object test2 at 0x7f5894656ea0>"
      ]
     },
     "execution_count": 63,
     "metadata": {},
     "output_type": "execute_result"
    }
   ],
   "source": [
    "iter(c)"
   ]
  },
  {
   "cell_type": "code",
   "execution_count": 64,
   "id": "528da1b0-74cd-4b26-b3d2-cfcf78e92975",
   "metadata": {},
   "outputs": [
    {
     "name": "stdout",
     "output_type": "stream",
     "text": [
      "1\n",
      "2\n",
      "3\n",
      "4\n",
      "5\n",
      "6\n",
      "7\n",
      "8\n",
      "9\n"
     ]
    }
   ],
   "source": [
    "for i in c:\n",
    "    print(i)"
   ]
  }
 ],
 "metadata": {
  "kernelspec": {
   "display_name": "Python 3 (ipykernel)",
   "language": "python",
   "name": "python3"
  },
  "language_info": {
   "codemirror_mode": {
    "name": "ipython",
    "version": 3
   },
   "file_extension": ".py",
   "mimetype": "text/x-python",
   "name": "python",
   "nbconvert_exporter": "python",
   "pygments_lexer": "ipython3",
   "version": "3.10.8"
  }
 },
 "nbformat": 4,
 "nbformat_minor": 5
}
