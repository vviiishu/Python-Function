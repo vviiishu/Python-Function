{
 "cells": [
  {
   "cell_type": "code",
   "execution_count": 1,
   "id": "0c118b62-862c-48d9-9fd9-e7793d513850",
   "metadata": {},
   "outputs": [
    {
     "data": {
      "text/plain": [
       "[4, 81, 2025, 625, 225]"
      ]
     },
     "execution_count": 1,
     "metadata": {},
     "output_type": "execute_result"
    }
   ],
   "source": [
    "l1=[2,9,45,25,15]\n",
    "def test (l1):\n",
    "    l2=[]\n",
    "    for i in l1:\n",
    "        l2.append(i**2)\n",
    "    return l2\n",
    "        \n",
    "test(l1)\n",
    "              "
   ]
  },
  {
   "cell_type": "code",
   "execution_count": 2,
   "id": "b3be73e6-20ff-4f2e-bd3f-6ec0da394503",
   "metadata": {},
   "outputs": [
    {
     "data": {
      "text/plain": [
       "[4, 81, 2025, 625, 225]"
      ]
     },
     "execution_count": 2,
     "metadata": {},
     "output_type": "execute_result"
    }
   ],
   "source": [
    "list(map(lambda x:x**2,l1))   # map fun take two arg fun and iterable"
   ]
  },
  {
   "cell_type": "code",
   "execution_count": 3,
   "id": "68d8d090-1235-4f5f-91d8-a7d43a42fb31",
   "metadata": {},
   "outputs": [],
   "source": [
    "l4=[5,4,3,88]\n",
    "l5=[5,65,23,7]"
   ]
  },
  {
   "cell_type": "code",
   "execution_count": 4,
   "id": "a1912719-ef08-44a7-aa2e-a91a67c31261",
   "metadata": {},
   "outputs": [
    {
     "data": {
      "text/plain": [
       "[10, 69, 26, 95]"
      ]
     },
     "execution_count": 4,
     "metadata": {},
     "output_type": "execute_result"
    }
   ],
   "source": [
    "list(map(lambda x,y:x+y,l4,l5))"
   ]
  },
  {
   "cell_type": "code",
   "execution_count": 5,
   "id": "a96c82f0-746a-4007-bb4f-716b914c4b03",
   "metadata": {},
   "outputs": [],
   "source": [
    "from functools import reduce"
   ]
  },
  {
   "cell_type": "code",
   "execution_count": 6,
   "id": "ee100724-2af7-4473-b2c6-1a2c8ef72ab4",
   "metadata": {},
   "outputs": [
    {
     "data": {
      "text/plain": [
       "100"
      ]
     },
     "execution_count": 6,
     "metadata": {},
     "output_type": "execute_result"
    }
   ],
   "source": [
    "reduce(lambda x,y:x+y,l4)"
   ]
  },
  {
   "cell_type": "code",
   "execution_count": 7,
   "id": "85f5296c-dfa6-41fa-8e17-ffccc7d20bd1",
   "metadata": {},
   "outputs": [
    {
     "data": {
      "text/plain": [
       "52325"
      ]
     },
     "execution_count": 7,
     "metadata": {},
     "output_type": "execute_result"
    }
   ],
   "source": [
    "reduce(lambda x,y:x*y,l5)"
   ]
  },
  {
   "cell_type": "code",
   "execution_count": 8,
   "id": "659a5bc9-0e7b-48e2-80a3-33e4af26decd",
   "metadata": {},
   "outputs": [
    {
     "data": {
      "text/plain": [
       "45"
      ]
     },
     "execution_count": 8,
     "metadata": {},
     "output_type": "execute_result"
    }
   ],
   "source": [
    "reduce(lambda x,y: x if x>y else y,l1)"
   ]
  },
  {
   "cell_type": "code",
   "execution_count": 9,
   "id": "cbbc2e56-afbe-4abe-bccf-b0977dd8d59e",
   "metadata": {},
   "outputs": [
    {
     "data": {
      "text/plain": [
       "[2]"
      ]
     },
     "execution_count": 9,
     "metadata": {},
     "output_type": "execute_result"
    }
   ],
   "source": [
    "list(filter(lambda x:x%2==0,l1))"
   ]
  },
  {
   "cell_type": "code",
   "execution_count": 10,
   "id": "6049ec7d-f385-44cf-995b-7e8aca885d94",
   "metadata": {},
   "outputs": [
    {
     "data": {
      "text/plain": [
       "[4, 88]"
      ]
     },
     "execution_count": 10,
     "metadata": {},
     "output_type": "execute_result"
    }
   ],
   "source": [
    "list(filter(lambda x:x%2==0,l4))"
   ]
  },
  {
   "cell_type": "code",
   "execution_count": 11,
   "id": "930b4b03-149d-41c2-8a47-085ce337c01f",
   "metadata": {},
   "outputs": [
    {
     "data": {
      "text/plain": [
       "[]"
      ]
     },
     "execution_count": 11,
     "metadata": {},
     "output_type": "execute_result"
    }
   ],
   "source": [
    "list(filter(lambda x:x%2==0,l5))"
   ]
  },
  {
   "cell_type": "code",
   "execution_count": 12,
   "id": "3f524f4e-89d1-4387-9115-05cebbad1afb",
   "metadata": {},
   "outputs": [
    {
     "data": {
      "text/plain": [
       "[5, 65, 23, 7]"
      ]
     },
     "execution_count": 12,
     "metadata": {},
     "output_type": "execute_result"
    }
   ],
   "source": [
    "list(filter(lambda x:x%2!=0,l5))"
   ]
  },
  {
   "cell_type": "code",
   "execution_count": 13,
   "id": "b487ceb0-a4bd-4147-ba40-9f0fc675060f",
   "metadata": {},
   "outputs": [
    {
     "data": {
      "text/plain": [
       "[5, 4, 3, 88]"
      ]
     },
     "execution_count": 13,
     "metadata": {},
     "output_type": "execute_result"
    }
   ],
   "source": [
    "list(filter(lambda x:x>0,l4))"
   ]
  },
  {
   "cell_type": "code",
   "execution_count": 14,
   "id": "340696cb-96bd-4da2-8ba1-96939ccc3c55",
   "metadata": {},
   "outputs": [
    {
     "name": "stdin",
     "output_type": "stream",
     "text": [
      " 10\n"
     ]
    },
    {
     "data": {
      "text/plain": [
       "'10'"
      ]
     },
     "execution_count": 14,
     "metadata": {},
     "output_type": "execute_result"
    }
   ],
   "source": [
    "x=input()\n",
    "x"
   ]
  }
 ],
 "metadata": {
  "kernelspec": {
   "display_name": "Python 3 (ipykernel)",
   "language": "python",
   "name": "python3"
  },
  "language_info": {
   "codemirror_mode": {
    "name": "ipython",
    "version": 3
   },
   "file_extension": ".py",
   "mimetype": "text/x-python",
   "name": "python",
   "nbconvert_exporter": "python",
   "pygments_lexer": "ipython3",
   "version": "3.10.8"
  }
 },
 "nbformat": 4,
 "nbformat_minor": 5
}
