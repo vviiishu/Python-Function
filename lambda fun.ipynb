{
 "cells": [
  {
   "cell_type": "code",
   "execution_count": 9,
   "id": "5c6f70f1-9e1d-4f22-962b-a2f848293acd",
   "metadata": {},
   "outputs": [],
   "source": [
    "def test (a,b):\n",
    "   return a**b"
   ]
  },
  {
   "cell_type": "code",
   "execution_count": 10,
   "id": "58afb210-7129-4e7b-90c9-150ffe2b8c2d",
   "metadata": {},
   "outputs": [
    {
     "data": {
      "text/plain": [
       "32"
      ]
     },
     "execution_count": 10,
     "metadata": {},
     "output_type": "execute_result"
    }
   ],
   "source": [
    "test(2,5)"
   ]
  },
  {
   "cell_type": "code",
   "execution_count": 12,
   "id": "9dffd445-b455-4aa6-8b68-3023cd568426",
   "metadata": {},
   "outputs": [],
   "source": [
    "square= lambda a,b:a**b"
   ]
  },
  {
   "cell_type": "code",
   "execution_count": 13,
   "id": "7077f19b-6bd4-41f5-87dc-0c21302b60db",
   "metadata": {},
   "outputs": [
    {
     "data": {
      "text/plain": [
       "64"
      ]
     },
     "execution_count": 13,
     "metadata": {},
     "output_type": "execute_result"
    }
   ],
   "source": [
    "square(2,6)"
   ]
  },
  {
   "cell_type": "code",
   "execution_count": 15,
   "id": "8cb60385-b2fb-4e01-aab9-2a1a05a5405c",
   "metadata": {},
   "outputs": [],
   "source": [
    "sum=lambda x,y:x+y"
   ]
  },
  {
   "cell_type": "code",
   "execution_count": 16,
   "id": "13a70562-7ae5-4faa-8ac7-521d22ce74e2",
   "metadata": {},
   "outputs": [
    {
     "data": {
      "text/plain": [
       "15"
      ]
     },
     "execution_count": 16,
     "metadata": {},
     "output_type": "execute_result"
    }
   ],
   "source": [
    "sum(5,10)"
   ]
  },
  {
   "cell_type": "code",
   "execution_count": 22,
   "id": "8b3e5652-c03b-4238-b1b5-9da6bf25b9b0",
   "metadata": {},
   "outputs": [],
   "source": [
    "f_to_c=lambda f:5*(f-32)/9"
   ]
  },
  {
   "cell_type": "code",
   "execution_count": 23,
   "id": "34829e2d-4d87-47f8-9d93-d0b60f73363e",
   "metadata": {},
   "outputs": [
    {
     "data": {
      "text/plain": [
       "37.77777777777778"
      ]
     },
     "execution_count": 23,
     "metadata": {},
     "output_type": "execute_result"
    }
   ],
   "source": [
    "f_to_c(100)"
   ]
  },
  {
   "cell_type": "code",
   "execution_count": 24,
   "id": "482046eb-aff6-4a8f-a166-74663f19b4bf",
   "metadata": {},
   "outputs": [],
   "source": [
    "greater= lambda a,b: a if a>b else b"
   ]
  },
  {
   "cell_type": "code",
   "execution_count": 25,
   "id": "b22aff09-d046-48a8-881c-f212b5fe971c",
   "metadata": {},
   "outputs": [
    {
     "data": {
      "text/plain": [
       "8"
      ]
     },
     "execution_count": 25,
     "metadata": {},
     "output_type": "execute_result"
    }
   ],
   "source": [
    "greater(5,8)"
   ]
  }
 ],
 "metadata": {
  "kernelspec": {
   "display_name": "Python 3 (ipykernel)",
   "language": "python",
   "name": "python3"
  },
  "language_info": {
   "codemirror_mode": {
    "name": "ipython",
    "version": 3
   },
   "file_extension": ".py",
   "mimetype": "text/x-python",
   "name": "python",
   "nbconvert_exporter": "python",
   "pygments_lexer": "ipython3",
   "version": "3.10.8"
  }
 },
 "nbformat": 4,
 "nbformat_minor": 5
}
